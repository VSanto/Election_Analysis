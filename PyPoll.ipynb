{
 "cells": [
  {
   "cell_type": "code",
   "execution_count": null,
   "id": "11298edd",
   "metadata": {},
   "outputs": [],
   "source": [
    "# The data we need to retrieve.\n",
    "# Import dependencies\n",
    "import csv\n",
    "import numpy\n",
    "\n",
    "# Assign a variable for the file to load and the path.\n",
    "file_to_load = 'Resources/election_results.csv'\n",
    "\n",
    "# 1. The total number of votes cast\n",
    "# 2. A complete list of candidates who received votes\n",
    "# 3. The percentage of votes each candiate won\n",
    "# 4. The total number of votes each candidate won\n",
    "# 5. The winner of the election bason on popular vote.\n",
    "\n",
    "\n",
    "# Import the datetime class from the datetime module.\n",
    "import datetime as dt\n",
    "# Use the now() attribute on the datetime class to get the present time.\n",
    "now = dt.datetime.now()\n",
    "# Print the present time.\n",
    "print(\"The time right now is \", now)"
   ]
  }
 ],
 "metadata": {
  "kernelspec": {
   "display_name": "PythonData",
   "language": "python",
   "name": "pythondata"
  },
  "language_info": {
   "codemirror_mode": {
    "name": "ipython",
    "version": 3
   },
   "file_extension": ".py",
   "mimetype": "text/x-python",
   "name": "python",
   "nbconvert_exporter": "python",
   "pygments_lexer": "ipython3",
   "version": "3.9.7"
  }
 },
 "nbformat": 4,
 "nbformat_minor": 5
}
