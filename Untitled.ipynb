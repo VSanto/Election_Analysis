{
 "cells": [
  {
   "cell_type": "code",
   "execution_count": 1,
   "id": "59d4b0e6",
   "metadata": {},
   "outputs": [
    {
     "data": {
      "text/plain": [
       "'PyPoll Homework Challenge Solution.'"
      ]
     },
     "execution_count": 1,
     "metadata": {},
     "output_type": "execute_result"
    }
   ],
   "source": [
    "# -*- coding: UTF-8 -*-\n",
    "\"\"\"PyPoll Homework Challenge Solution.\"\"\""
   ]
  },
  {
   "cell_type": "code",
   "execution_count": 2,
   "id": "dba0a404",
   "metadata": {},
   "outputs": [],
   "source": [
    "# Add our dependencies.\n",
    "import csv\n",
    "import os"
   ]
  },
  {
   "cell_type": "code",
   "execution_count": 3,
   "id": "0adb9ea4",
   "metadata": {},
   "outputs": [],
   "source": [
    "# Add a variable to load a file from a path.\n",
    "file_to_load = os.path.join('..','Election_Analysis','Resource','election_results.csv')\n",
    "# Add a variable to save the file to a path.\n",
    "file_to_save = os.path.join(\"analysis\", \"election_analysis.txt\")"
   ]
  },
  {
   "cell_type": "code",
   "execution_count": 4,
   "id": "8d31df52",
   "metadata": {},
   "outputs": [],
   "source": [
    "# Initialize a total vote counter.\n",
    "total_votes = 0"
   ]
  },
  {
   "cell_type": "code",
   "execution_count": 5,
   "id": "b2a79ee5",
   "metadata": {},
   "outputs": [],
   "source": [
    "# Candidate Options and candidate votes.\n",
    "candidate_options = []\n",
    "candidate_votes = {}"
   ]
  },
  {
   "cell_type": "code",
   "execution_count": 6,
   "id": "dda2cad9",
   "metadata": {},
   "outputs": [],
   "source": [
    "# 1: Create a county list and county votes dictionary.\n",
    "county_names = []\n",
    "county_voters = {}"
   ]
  },
  {
   "cell_type": "code",
   "execution_count": 7,
   "id": "c084058c",
   "metadata": {},
   "outputs": [],
   "source": [
    "# Track the winning candidate, vote count and percentage\n",
    "winning_candidate = \"\"\n",
    "winning_count = 0\n",
    "winning_percentage = 0"
   ]
  },
  {
   "cell_type": "code",
   "execution_count": 8,
   "id": "e098d6bc",
   "metadata": {},
   "outputs": [],
   "source": [
    "# 2: Track the largest county and county voter turnout.\n",
    "largest_county = \"\"\n",
    "largest_voter_turnout = 0"
   ]
  },
  {
   "cell_type": "code",
   "execution_count": 16,
   "id": "d8191250",
   "metadata": {},
   "outputs": [],
   "source": [
    "# Read the csv and convert it into a list of dictionaries\n",
    "with open(file_to_load) as election_data:\n",
    "    reader = csv.reader(election_data)"
   ]
  },
  {
   "cell_type": "code",
   "execution_count": 17,
   "id": "d74f84fb",
   "metadata": {},
   "outputs": [
    {
     "ename": "ValueError",
     "evalue": "I/O operation on closed file.",
     "output_type": "error",
     "traceback": [
      "\u001b[1;31m---------------------------------------------------------------------------\u001b[0m",
      "\u001b[1;31mValueError\u001b[0m                                Traceback (most recent call last)",
      "\u001b[1;32m~\\AppData\\Local\\Temp/ipykernel_19824/2115698962.py\u001b[0m in \u001b[0;36m<module>\u001b[1;34m\u001b[0m\n\u001b[0;32m      1\u001b[0m \u001b[1;31m# Read the header\u001b[0m\u001b[1;33m\u001b[0m\u001b[1;33m\u001b[0m\u001b[0m\n\u001b[1;32m----> 2\u001b[1;33m \u001b[0mheader\u001b[0m \u001b[1;33m=\u001b[0m \u001b[0mnext\u001b[0m\u001b[1;33m(\u001b[0m\u001b[0mreader\u001b[0m\u001b[1;33m)\u001b[0m\u001b[1;33m\u001b[0m\u001b[1;33m\u001b[0m\u001b[0m\n\u001b[0m",
      "\u001b[1;31mValueError\u001b[0m: I/O operation on closed file."
     ]
    }
   ],
   "source": [
    "# Read the header\n",
    "header = next(reader)"
   ]
  },
  {
   "cell_type": "code",
   "execution_count": 18,
   "id": "fdd490b6",
   "metadata": {},
   "outputs": [
    {
     "ename": "ValueError",
     "evalue": "I/O operation on closed file.",
     "output_type": "error",
     "traceback": [
      "\u001b[1;31m---------------------------------------------------------------------------\u001b[0m",
      "\u001b[1;31mValueError\u001b[0m                                Traceback (most recent call last)",
      "\u001b[1;32m~\\AppData\\Local\\Temp/ipykernel_19824/3988465108.py\u001b[0m in \u001b[0;36m<module>\u001b[1;34m\u001b[0m\n\u001b[0;32m      1\u001b[0m \u001b[1;31m# For each row in the CSV file.\u001b[0m\u001b[1;33m\u001b[0m\u001b[1;33m\u001b[0m\u001b[0m\n\u001b[1;32m----> 2\u001b[1;33m \u001b[1;32mfor\u001b[0m \u001b[0mrow\u001b[0m \u001b[1;32min\u001b[0m \u001b[0mreader\u001b[0m\u001b[1;33m:\u001b[0m\u001b[1;33m\u001b[0m\u001b[1;33m\u001b[0m\u001b[0m\n\u001b[0m\u001b[0;32m      3\u001b[0m \u001b[1;33m\u001b[0m\u001b[0m\n\u001b[0;32m      4\u001b[0m \u001b[1;31m# Add to the total vote count\u001b[0m\u001b[1;33m\u001b[0m\u001b[1;33m\u001b[0m\u001b[0m\n\u001b[0;32m      5\u001b[0m     \u001b[0mtotal_votes\u001b[0m \u001b[1;33m=\u001b[0m \u001b[0mtotal_votes\u001b[0m \u001b[1;33m+\u001b[0m \u001b[1;36m1\u001b[0m\u001b[1;33m\u001b[0m\u001b[1;33m\u001b[0m\u001b[0m\n",
      "\u001b[1;31mValueError\u001b[0m: I/O operation on closed file."
     ]
    }
   ],
   "source": [
    "# For each row in the CSV file.\n",
    "for row in reader:\n",
    "    \n",
    "# Add to the total vote count\n",
    "    total_votes = total_votes + 1\n"
   ]
  },
  {
   "cell_type": "code",
   "execution_count": null,
   "id": "069b2989",
   "metadata": {},
   "outputs": [],
   "source": [
    "# Get the candidate name from each row.\n",
    "candidate_name = row[2]\n",
    "\n",
    "# 3: Extract the county name from each row.\n",
    "county_name = row[1]\n",
    "\n",
    "# If the candidate does not match any existing candidate add it to the candidate list\n",
    "if candidate_name not in candidate_options:\n",
    "# Add the candidate name to the candidate list.\n",
    "    candidate_options.append(candidate_name)\n",
    "# And begin tracking that candidate's voter count.\n",
    "    candidate_votes[candidate_name] = 0\n",
    "# Add a vote to that candidate's count\n",
    "    candidate_votes[candidate_name] += 1"
   ]
  },
  {
   "cell_type": "code",
   "execution_count": null,
   "id": "9c040ce1",
   "metadata": {},
   "outputs": [],
   "source": [
    "# 4a: Write an if statement that checks that the\n",
    "# county does not match any existing county in the county list.\n",
    "if county_name not in county_names:"
   ]
  },
  {
   "cell_type": "code",
   "execution_count": null,
   "id": "32b12505",
   "metadata": {},
   "outputs": [],
   "source": [
    "# 4b: Add the existing county to the list of counties.\n",
    "county_names.append(county_name)"
   ]
  },
  {
   "cell_type": "code",
   "execution_count": null,
   "id": "fce6c83f",
   "metadata": {},
   "outputs": [],
   "source": [
    "# 4c: Begin tracking the county's vote count.\n",
    "county_votes[candidate_name] += 1"
   ]
  },
  {
   "cell_type": "code",
   "execution_count": null,
   "id": "eedff311",
   "metadata": {},
   "outputs": [],
   "source": [
    "# 5: Add a vote to that county's vote count.\n",
    "county_votes[candidate_name] += 1"
   ]
  },
  {
   "cell_type": "code",
   "execution_count": null,
   "id": "d43131f3",
   "metadata": {},
   "outputs": [],
   "source": [
    "# Save the results to our text file.\n",
    "with open(file_to_save, \"w\") as txt_file:"
   ]
  },
  {
   "cell_type": "code",
   "execution_count": null,
   "id": "272f7f6e",
   "metadata": {},
   "outputs": [],
   "source": [
    "# Print the final vote count (to terminal)\n",
    "    election_results = (\n",
    "        f\"\\nElection Results\\n\"\n",
    "        f\"-------------------------\\n\"\n",
    "        f\"Total Votes: {total_votes:,}\\n\"\n",
    "        f\"-------------------------\\n\\n\"\n",
    "        f\"County Votes:\\n\")\n",
    "    print(election_results, end=\"\")"
   ]
  },
  {
   "cell_type": "code",
   "execution_count": null,
   "id": "817016c0",
   "metadata": {},
   "outputs": [],
   "source": [
    "# Save the election_results to a text file.\n",
    "txt_file.write(election_results)"
   ]
  },
  {
   "cell_type": "code",
   "execution_count": null,
   "id": "a4c26b63",
   "metadata": {},
   "outputs": [],
   "source": [
    "# 6a: Write a for loop to get the county from the county dictionary.\n",
    "for county in county__votes"
   ]
  },
  {
   "cell_type": "code",
   "execution_count": null,
   "id": "cfd2fca5",
   "metadata": {},
   "outputs": [],
   "source": [
    "# 6b: Retrieve the county vote count.\n",
    "county_vote = county_votes[county]"
   ]
  },
  {
   "cell_type": "code",
   "execution_count": null,
   "id": "249af958",
   "metadata": {},
   "outputs": [],
   "source": [
    "# 6c: Calculate the percentage of votes for the county.\n",
    "county_percentage = float(county_vote) / float(total_votes) * 100"
   ]
  },
  {
   "cell_type": "code",
   "execution_count": null,
   "id": "893ded7b",
   "metadata": {},
   "outputs": [],
   "source": [
    "# 6d: Print the county results to the terminal.\n",
    "county_results = (\n",
    "     f\"{county}: {county_percentage:.1f}% ({county_vote:,)\\n\"\n",
    "print(county_results)"
   ]
  },
  {
   "cell_type": "code",
   "execution_count": null,
   "id": "45284ac8",
   "metadata": {},
   "outputs": [],
   "source": [
    "# 6e: Save the county votes to a text file.\n",
    "txt_file.write(county_results)"
   ]
  },
  {
   "cell_type": "code",
   "execution_count": null,
   "id": "ff035c4e",
   "metadata": {},
   "outputs": [],
   "source": [
    "# 6f: Write an if statement to determine the winning county and get its vote count.\n",
    "if (county_vote > largest_county):\n",
    "    largest_county = county_vote\n",
    "    largest_county_turnout = county"
   ]
  },
  {
   "cell_type": "code",
   "execution_count": null,
   "id": "ce508b08",
   "metadata": {},
   "outputs": [],
   "source": [
    "# 7: Print the county with the largest turnout to the terminal.\n",
    "    largest_county_turnout = (\n",
    "        f\"\\n----------------\\n\"\n",
    "        f\"-------------------------\\n\"\n",
    "        f\"Largest County Turnout: {largest_county_turnout:,}\\n\"\n",
    "        f\"-------------------------\\n\\n\"\n",
    "        f\"County Votes:\\n\")\n",
    "    print(election_results, end=\"\")"
   ]
  },
  {
   "cell_type": "code",
   "execution_count": null,
   "id": "f08aab38",
   "metadata": {},
   "outputs": [],
   "source": [
    "# 8: Save the county with the largest turnout to a text file.\n",
    "txt_file.write(election_results)"
   ]
  },
  {
   "cell_type": "code",
   "execution_count": null,
   "id": "c8f1748f",
   "metadata": {},
   "outputs": [],
   "source": [
    "# Save the final candidate vote count to the text file.\n",
    "for candidate_name in candidate_votes:"
   ]
  },
  {
   "cell_type": "code",
   "execution_count": null,
   "id": "e780a5cd",
   "metadata": {},
   "outputs": [],
   "source": [
    "# Retrieve vote count and percentage\n",
    "    votes = candidate_votes.get(candidate_name)\n",
    "    vote_percentage = float(votes) / float(total_votes) * 100\n",
    "    candidate_results = (\n",
    "    f\"{candidate_name}: {vote_percentage:.1f}% ({votes:,})\\n\")"
   ]
  },
  {
   "cell_type": "code",
   "execution_count": null,
   "id": "a4f1e625",
   "metadata": {},
   "outputs": [],
   "source": [
    "# Print each candidate's voter count and percentage to the terminal.\n",
    "print(candidate_results)"
   ]
  },
  {
   "cell_type": "code",
   "execution_count": null,
   "id": "ed9a7a04",
   "metadata": {},
   "outputs": [],
   "source": []
  },
  {
   "cell_type": "code",
   "execution_count": null,
   "id": "f05761a7",
   "metadata": {},
   "outputs": [],
   "source": []
  },
  {
   "cell_type": "code",
   "execution_count": null,
   "id": "f1b7df6e",
   "metadata": {},
   "outputs": [],
   "source": []
  },
  {
   "cell_type": "code",
   "execution_count": null,
   "id": "a8c8d9d0",
   "metadata": {},
   "outputs": [],
   "source": []
  },
  {
   "cell_type": "code",
   "execution_count": null,
   "id": "2d3c6a73",
   "metadata": {},
   "outputs": [],
   "source": []
  }
 ],
 "metadata": {
  "kernelspec": {
   "display_name": "PythonData",
   "language": "python",
   "name": "pythondata"
  },
  "language_info": {
   "codemirror_mode": {
    "name": "ipython",
    "version": 3
   },
   "file_extension": ".py",
   "mimetype": "text/x-python",
   "name": "python",
   "nbconvert_exporter": "python",
   "pygments_lexer": "ipython3",
   "version": "3.9.7"
  }
 },
 "nbformat": 4,
 "nbformat_minor": 5
}
