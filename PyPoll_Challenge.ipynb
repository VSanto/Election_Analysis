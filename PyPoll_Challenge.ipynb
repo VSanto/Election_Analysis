{
 "cells": [
  {
   "cell_type": "code",
   "execution_count": 1,
   "id": "bf4a7fba",
   "metadata": {},
   "outputs": [],
   "source": [
    "# Add our dependencies.\n",
    "import csv\n",
    "import os\n"
   ]
  },
  {
   "cell_type": "code",
   "execution_count": 2,
   "id": "7de9c6d6",
   "metadata": {},
   "outputs": [],
   "source": [
    "# Add a variable to load a file from a path.\n",
    "file_to_load = os.path.join(\n",
    "    r\"c:/Users/Valerie/Desktop/Challenges/Election_Analysis/Resource/election_results.csv\")\n",
    "# Add a variable to save the file to a path.\n",
    "file_to_save = os.path.join(\n",
    "    r\"c:/Users/Valerie/Desktop/Challenges/Election_Analysis/Resource/election_analysis.txt\")\n"
   ]
  },
  {
   "cell_type": "code",
   "execution_count": 3,
   "id": "f9d3968b",
   "metadata": {},
   "outputs": [],
   "source": [
    "# Initialize a total vote counter.\n",
    "total_votes = 0\n"
   ]
  },
  {
   "cell_type": "code",
   "execution_count": 4,
   "id": "06668608",
   "metadata": {},
   "outputs": [],
   "source": [
    "# Candidate Options and candidate votes.\n",
    "candidate_options = []\n",
    "candidate_votes = {}\n"
   ]
  },
  {
   "cell_type": "code",
   "execution_count": 5,
   "id": "b81cec84",
   "metadata": {},
   "outputs": [],
   "source": [
    "# 1: Create a county list and county votes dictionary.\n",
    "county_names = []\n",
    "county_votes = {}\n"
   ]
  },
  {
   "cell_type": "code",
   "execution_count": 6,
   "id": "e33dcbb7",
   "metadata": {},
   "outputs": [],
   "source": [
    "# Track the winning candidate, vote count and percentage\n",
    "winning_candidate = \"\"\n",
    "winning_count = 0\n",
    "winning_percentage = 0\n"
   ]
  },
  {
   "cell_type": "code",
   "execution_count": 7,
   "id": "6ec1a708",
   "metadata": {},
   "outputs": [],
   "source": [
    "# 2: Track the largest county and county voter turnout.\n",
    "largest_county_turnout = \"\"\n",
    "largest_county_votes = 0\n"
   ]
  },
  {
   "cell_type": "code",
   "execution_count": 8,
   "id": "517953dd",
   "metadata": {},
   "outputs": [
    {
     "name": "stdout",
     "output_type": "stream",
     "text": [
      "\n",
      "Election Results\n",
      "-------------------------\n",
      "Total Votes: 369,711\n",
      "-------------------------\n",
      "\n",
      "County Votes:\n"
     ]
    }
   ],
   "source": [
    "# Read the csv and convert it into a list of dictionaries\n",
    "with open(file_to_load) as election_data:\n",
    "    reader = csv.reader(election_data)\n",
    "\n",
    "    # Read the header\n",
    "    header = next(reader)\n",
    "\n",
    "    # For each row in the CSV file.\n",
    "    for row in reader:\n",
    "\n",
    "        # Add to the total vote count\n",
    "        total_votes = total_votes + 1\n",
    "\n",
    "        # Get the candidate name from each row.\n",
    "        candidate_name = row[2]\n",
    "\n",
    "        # 3: Extract the county name from each row.\n",
    "        county_name = row[1]\n",
    "\n",
    "        # If the candidate does not match any existing candidate add it to\n",
    "        # the candidate list\n",
    "        if candidate_name not in candidate_options:\n",
    "\n",
    "            # Add the candidate name to the candidate list.\n",
    "            candidate_options.append(candidate_name)\n",
    "\n",
    "            # And begin tracking that candidate's voter count.\n",
    "            candidate_votes[candidate_name] = 0\n",
    "\n",
    "        # Add a vote to that candidate's count\n",
    "        candidate_votes[candidate_name] += 1\n",
    "\n",
    "        # 4a: Write an if statement that checks that the\n",
    "        # county does not match any existing county in the county list.\n",
    "        if county_name not in county_names:\n",
    "\n",
    "            # 4b: Add the existing county to the list of counties.\n",
    "            county_names.append(county_name)\n",
    "\n",
    "            # 4c: Begin tracking the county's vote count.\n",
    "            county_votes[county_name] = 0\n",
    "\n",
    "        # 5: Add a vote to that county's vote count.\n",
    "        county_votes[county_name] += 1\n",
    "\n",
    "# Save the results to our text file.\n",
    "with open(file_to_save, \"w\") as txt_file:\n",
    "\n",
    "# Print the final vote count (to terminal)\n",
    "    election_results = (\n",
    "        f\"\\nElection Results\\n\"\n",
    "        f\"-------------------------\\n\"\n",
    "        f\"Total Votes: {total_votes:,}\\n\"\n",
    "        f\"-------------------------\\n\\n\"\n",
    "        f\"County Votes:\\n\")    \n",
    "    print(election_results, end=\"\")\n",
    "\n",
    "    txt_file.write(election_results)\n"
   ]
  },
  {
   "cell_type": "code",
   "execution_count": 9,
   "id": "f63a30ae",
   "metadata": {},
   "outputs": [],
   "source": [
    "        # 4a: Write an if statement that checks that the\n",
    "        # county does not match any existing county in the county list.\n",
    "        if county_name not in county_names:\n",
    "\n",
    "            # 4b: Add the existing county to the list of counties.\n",
    "            county_names.append(county_name)\n",
    "\n",
    "            # 4c: Begin tracking the county's vote count.\n",
    "            county_votes[county_name] = 0\n",
    "\n",
    "        # 5: Add a vote to that county's vote count.\n",
    "        county_votes[county_name] += 1"
   ]
  },
  {
   "cell_type": "code",
   "execution_count": 10,
   "id": "4592d265",
   "metadata": {},
   "outputs": [
    {
     "name": "stdout",
     "output_type": "stream",
     "text": [
      "Jefferson: 10.5% (38,855)\n",
      "\n",
      "Denver: 82.8% (306,055)\n",
      "\n",
      "Arapahoe: 6.7% (24,802)\n",
      "\n"
     ]
    }
   ],
   "source": [
    "# 6a: Write a for loop to get the county from the county dictionary.\n",
    "for county_name in county_names:\n",
    "    \n",
    "\n",
    "    # 6b: Retrieve the county vote count.\n",
    "    county_vote_count = county_votes[county_name]\n",
    "    \n",
    "    # 6c: Calculate the percentage of votes for the county.\n",
    "    county_vote_percentage = float(county_vote_count) / float(total_votes) * 100\n",
    "    \n",
    "    # 6d: Print the county results to the terminal.\n",
    "    county_results = (f\"{county_name}: {county_vote_percentage:.1f}% ({county_vote_count:,})\\n\")\n",
    "    \n",
    "    print(county_results)\n",
    "\n",
    "#     # 6e: Save the county votes to a text file.\n",
    "#     txt_file.write(county_results)\n",
    "\n",
    "    # 6f: Write an if statement to determine the winning county and get its vote count.\n",
    "    if (county_vote_count > largest_county_votes):\n",
    "        largest_county_turnout = county_name\n",
    "        largest_county_votes = county_vote_count"
   ]
  },
  {
   "cell_type": "code",
   "execution_count": 11,
   "id": "3508f9d2",
   "metadata": {},
   "outputs": [
    {
     "name": "stdout",
     "output_type": "stream",
     "text": [
      "-------------------------\n",
      "Largest County Turnout: Denver\n",
      "-------------------------\n",
      "\n"
     ]
    }
   ],
   "source": [
    "# 7: Print the county with the largest turnout to the terminal.\n",
    "largest_turnout_summary = (\n",
    "    f\"-------------------------\\n\"\n",
    "    f\"Largest County Turnout: {largest_county_turnout}\\n\"\n",
    "    f\"-------------------------\\n\"\n",
    ")\n",
    "\n",
    "print(largest_turnout_summary)"
   ]
  },
  {
   "cell_type": "code",
   "execution_count": 12,
   "id": "981786cc",
   "metadata": {},
   "outputs": [],
   "source": [
    "# # 8: Save the county with the largest turnout to a text file.\n",
    "# txt_file.write(largest_county_turnout_summary)\n"
   ]
  },
  {
   "cell_type": "code",
   "execution_count": 13,
   "id": "1d2cb0e5",
   "metadata": {},
   "outputs": [
    {
     "name": "stdout",
     "output_type": "stream",
     "text": [
      "Charles Casper Stockham: 23.0% (85,213)\n",
      "\n",
      "Diana DeGette: 73.8% (272,892)\n",
      "\n",
      "Raymon Anthony Doane: 3.1% (11,606)\n",
      "\n"
     ]
    }
   ],
   "source": [
    "# Save the final candidate vote count to the text file.\n",
    "for candidate_name in candidate_votes:\n",
    "\n",
    "    # Retrieve vote count and percentage\n",
    "    votes = candidate_votes.get(candidate_name)\n",
    "    vote_percentage = float(votes) / float(total_votes) * 100\n",
    "    candidate_results = (\n",
    "        f\"{candidate_name}: {vote_percentage:.1f}% ({votes:,})\\n\")\n",
    "\n",
    "    # Print each candidate's voter count and percentage to the\n",
    "    # terminal.\n",
    "    print(candidate_results)\n",
    "#     #  Save the candidate results to our text file.\n",
    "#     txt_file.write(candidate_results)\n"
   ]
  },
  {
   "cell_type": "code",
   "execution_count": 14,
   "id": "f374363c",
   "metadata": {},
   "outputs": [
    {
     "name": "stdout",
     "output_type": "stream",
     "text": [
      "-------------------------\n",
      "Winner: Raymon Anthony Doane\n",
      "Winning Vote Count: 11,606\n",
      "Winning Percentage: 3.1%\n",
      "-------------------------\n",
      "\n"
     ]
    }
   ],
   "source": [
    "# Determine winning vote count, winning percentage, and candidate.\n",
    "\n",
    "if (votes > winning_count) and (vote_percentage > winning_percentage):\n",
    "    winning_count = votes\n",
    "    winning_candidate = candidate_name\n",
    "    winning_percentage = vote_percentage\n",
    "\n",
    "# Print the winning candidate (to terminal)\n",
    "winning_candidate_summary = (\n",
    "    f\"-------------------------\\n\"\n",
    "    f\"Winner: {winning_candidate}\\n\"\n",
    "    f\"Winning Vote Count: {winning_count:,}\\n\"\n",
    "    f\"Winning Percentage: {winning_percentage:.1f}%\\n\"\n",
    "    f\"-------------------------\\n\")\n",
    "print(winning_candidate_summary)\n",
    "\n",
    "# # Save the winning candidate's name to the text file\n",
    "# txt_file.write(winning_candidate_summary)"
   ]
  },
  {
   "cell_type": "code",
   "execution_count": null,
   "id": "761cbcd5",
   "metadata": {},
   "outputs": [],
   "source": []
  }
 ],
 "metadata": {
  "kernelspec": {
   "display_name": "PythonData",
   "language": "python",
   "name": "pythondata"
  },
  "language_info": {
   "codemirror_mode": {
    "name": "ipython",
    "version": 3
   },
   "file_extension": ".py",
   "mimetype": "text/x-python",
   "name": "python",
   "nbconvert_exporter": "python",
   "pygments_lexer": "ipython3",
   "version": "3.9.7"
  }
 },
 "nbformat": 4,
 "nbformat_minor": 5
}
